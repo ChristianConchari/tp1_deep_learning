{
 "cells": [
  {
   "cell_type": "markdown",
   "metadata": {},
   "source": [
    "# Importación de librerías y datos"
   ]
  },
  {
   "cell_type": "code",
   "execution_count": 1,
   "metadata": {},
   "outputs": [],
   "source": [
    "import matplotlib.pyplot as plt\n",
    "import numpy as np\n",
    "import pandas as pd\n",
    "import torch\n",
    "from torch.utils.data import DataLoader, Dataset\n",
    "from sklearn import metrics\n",
    "from sklearn.preprocessing import MinMaxScaler"
   ]
  },
  {
   "cell_type": "markdown",
   "metadata": {},
   "source": [
    "Revisamos que la GPU esté disponible"
   ]
  },
  {
   "cell_type": "code",
   "execution_count": 2,
   "metadata": {},
   "outputs": [
    {
     "name": "stdout",
     "output_type": "stream",
     "text": [
      "Using CUDA: True\n"
     ]
    }
   ],
   "source": [
    "use_cuda = torch.cuda.is_available()\n",
    "print(\"Using CUDA: {}\".format(use_cuda))"
   ]
  },
  {
   "cell_type": "markdown",
   "metadata": {},
   "source": [
    "Cargamos los datos desde `data/rating.csv`"
   ]
  },
  {
   "cell_type": "code",
   "execution_count": 3,
   "metadata": {},
   "outputs": [
    {
     "data": {
      "text/html": [
       "<div>\n",
       "<style scoped>\n",
       "    .dataframe tbody tr th:only-of-type {\n",
       "        vertical-align: middle;\n",
       "    }\n",
       "\n",
       "    .dataframe tbody tr th {\n",
       "        vertical-align: top;\n",
       "    }\n",
       "\n",
       "    .dataframe thead th {\n",
       "        text-align: right;\n",
       "    }\n",
       "</style>\n",
       "<table border=\"1\" class=\"dataframe\">\n",
       "  <thead>\n",
       "    <tr style=\"text-align: right;\">\n",
       "      <th></th>\n",
       "      <th>userId</th>\n",
       "      <th>movieId</th>\n",
       "      <th>rating</th>\n",
       "      <th>timestamp</th>\n",
       "    </tr>\n",
       "  </thead>\n",
       "  <tbody>\n",
       "    <tr>\n",
       "      <th>51911</th>\n",
       "      <td>337</td>\n",
       "      <td>50</td>\n",
       "      <td>3.0</td>\n",
       "      <td>860256158</td>\n",
       "    </tr>\n",
       "    <tr>\n",
       "      <th>88754</th>\n",
       "      <td>573</td>\n",
       "      <td>1527</td>\n",
       "      <td>4.5</td>\n",
       "      <td>1248842035</td>\n",
       "    </tr>\n",
       "    <tr>\n",
       "      <th>20872</th>\n",
       "      <td>138</td>\n",
       "      <td>1019</td>\n",
       "      <td>5.0</td>\n",
       "      <td>1222676090</td>\n",
       "    </tr>\n",
       "    <tr>\n",
       "      <th>51251</th>\n",
       "      <td>331</td>\n",
       "      <td>6534</td>\n",
       "      <td>0.5</td>\n",
       "      <td>1537158378</td>\n",
       "    </tr>\n",
       "    <tr>\n",
       "      <th>97686</th>\n",
       "      <td>606</td>\n",
       "      <td>1958</td>\n",
       "      <td>4.0</td>\n",
       "      <td>1171377019</td>\n",
       "    </tr>\n",
       "    <tr>\n",
       "      <th>21296</th>\n",
       "      <td>140</td>\n",
       "      <td>2085</td>\n",
       "      <td>4.0</td>\n",
       "      <td>1021899051</td>\n",
       "    </tr>\n",
       "    <tr>\n",
       "      <th>14946</th>\n",
       "      <td>95</td>\n",
       "      <td>2600</td>\n",
       "      <td>2.5</td>\n",
       "      <td>1105401161</td>\n",
       "    </tr>\n",
       "    <tr>\n",
       "      <th>6792</th>\n",
       "      <td>45</td>\n",
       "      <td>3617</td>\n",
       "      <td>4.0</td>\n",
       "      <td>1007995150</td>\n",
       "    </tr>\n",
       "    <tr>\n",
       "      <th>32541</th>\n",
       "      <td>221</td>\n",
       "      <td>7361</td>\n",
       "      <td>4.0</td>\n",
       "      <td>1111178504</td>\n",
       "    </tr>\n",
       "    <tr>\n",
       "      <th>11172</th>\n",
       "      <td>68</td>\n",
       "      <td>8529</td>\n",
       "      <td>2.5</td>\n",
       "      <td>1158533300</td>\n",
       "    </tr>\n",
       "  </tbody>\n",
       "</table>\n",
       "</div>"
      ],
      "text/plain": [
       "       userId  movieId  rating   timestamp\n",
       "51911     337       50     3.0   860256158\n",
       "88754     573     1527     4.5  1248842035\n",
       "20872     138     1019     5.0  1222676090\n",
       "51251     331     6534     0.5  1537158378\n",
       "97686     606     1958     4.0  1171377019\n",
       "21296     140     2085     4.0  1021899051\n",
       "14946      95     2600     2.5  1105401161\n",
       "6792       45     3617     4.0  1007995150\n",
       "32541     221     7361     4.0  1111178504\n",
       "11172      68     8529     2.5  1158533300"
      ]
     },
     "execution_count": 3,
     "metadata": {},
     "output_type": "execute_result"
    }
   ],
   "source": [
    "data_df = pd.read_csv(\"data/ratings.csv\")\n",
    "\n",
    "data_df.sample(10)"
   ]
  },
  {
   "cell_type": "markdown",
   "metadata": {},
   "source": [
    "Exploramos brevemente los datos"
   ]
  },
  {
   "cell_type": "code",
   "execution_count": 4,
   "metadata": {},
   "outputs": [
    {
     "name": "stdout",
     "output_type": "stream",
     "text": [
      "<class 'pandas.core.frame.DataFrame'>\n",
      "RangeIndex: 100836 entries, 0 to 100835\n",
      "Data columns (total 4 columns):\n",
      " #   Column     Non-Null Count   Dtype  \n",
      "---  ------     --------------   -----  \n",
      " 0   userId     100836 non-null  int64  \n",
      " 1   movieId    100836 non-null  int64  \n",
      " 2   rating     100836 non-null  float64\n",
      " 3   timestamp  100836 non-null  int64  \n",
      "dtypes: float64(1), int64(3)\n",
      "memory usage: 3.1 MB\n"
     ]
    }
   ],
   "source": [
    "data_df.info()"
   ]
  },
  {
   "cell_type": "code",
   "execution_count": 5,
   "metadata": {},
   "outputs": [
    {
     "data": {
      "text/html": [
       "<div>\n",
       "<style scoped>\n",
       "    .dataframe tbody tr th:only-of-type {\n",
       "        vertical-align: middle;\n",
       "    }\n",
       "\n",
       "    .dataframe tbody tr th {\n",
       "        vertical-align: top;\n",
       "    }\n",
       "\n",
       "    .dataframe thead th {\n",
       "        text-align: right;\n",
       "    }\n",
       "</style>\n",
       "<table border=\"1\" class=\"dataframe\">\n",
       "  <thead>\n",
       "    <tr style=\"text-align: right;\">\n",
       "      <th></th>\n",
       "      <th>userId</th>\n",
       "      <th>movieId</th>\n",
       "      <th>rating</th>\n",
       "      <th>timestamp</th>\n",
       "    </tr>\n",
       "  </thead>\n",
       "  <tbody>\n",
       "    <tr>\n",
       "      <th>count</th>\n",
       "      <td>100836.000000</td>\n",
       "      <td>100836.000000</td>\n",
       "      <td>100836.000000</td>\n",
       "      <td>1.008360e+05</td>\n",
       "    </tr>\n",
       "    <tr>\n",
       "      <th>mean</th>\n",
       "      <td>326.127564</td>\n",
       "      <td>19435.295718</td>\n",
       "      <td>3.501557</td>\n",
       "      <td>1.205946e+09</td>\n",
       "    </tr>\n",
       "    <tr>\n",
       "      <th>std</th>\n",
       "      <td>182.618491</td>\n",
       "      <td>35530.987199</td>\n",
       "      <td>1.042529</td>\n",
       "      <td>2.162610e+08</td>\n",
       "    </tr>\n",
       "    <tr>\n",
       "      <th>min</th>\n",
       "      <td>1.000000</td>\n",
       "      <td>1.000000</td>\n",
       "      <td>0.500000</td>\n",
       "      <td>8.281246e+08</td>\n",
       "    </tr>\n",
       "    <tr>\n",
       "      <th>25%</th>\n",
       "      <td>177.000000</td>\n",
       "      <td>1199.000000</td>\n",
       "      <td>3.000000</td>\n",
       "      <td>1.019124e+09</td>\n",
       "    </tr>\n",
       "    <tr>\n",
       "      <th>50%</th>\n",
       "      <td>325.000000</td>\n",
       "      <td>2991.000000</td>\n",
       "      <td>3.500000</td>\n",
       "      <td>1.186087e+09</td>\n",
       "    </tr>\n",
       "    <tr>\n",
       "      <th>75%</th>\n",
       "      <td>477.000000</td>\n",
       "      <td>8122.000000</td>\n",
       "      <td>4.000000</td>\n",
       "      <td>1.435994e+09</td>\n",
       "    </tr>\n",
       "    <tr>\n",
       "      <th>max</th>\n",
       "      <td>610.000000</td>\n",
       "      <td>193609.000000</td>\n",
       "      <td>5.000000</td>\n",
       "      <td>1.537799e+09</td>\n",
       "    </tr>\n",
       "  </tbody>\n",
       "</table>\n",
       "</div>"
      ],
      "text/plain": [
       "              userId        movieId         rating     timestamp\n",
       "count  100836.000000  100836.000000  100836.000000  1.008360e+05\n",
       "mean      326.127564   19435.295718       3.501557  1.205946e+09\n",
       "std       182.618491   35530.987199       1.042529  2.162610e+08\n",
       "min         1.000000       1.000000       0.500000  8.281246e+08\n",
       "25%       177.000000    1199.000000       3.000000  1.019124e+09\n",
       "50%       325.000000    2991.000000       3.500000  1.186087e+09\n",
       "75%       477.000000    8122.000000       4.000000  1.435994e+09\n",
       "max       610.000000  193609.000000       5.000000  1.537799e+09"
      ]
     },
     "execution_count": 5,
     "metadata": {},
     "output_type": "execute_result"
    }
   ],
   "source": [
    "data_df.describe()"
   ]
  },
  {
   "cell_type": "code",
   "execution_count": 6,
   "metadata": {},
   "outputs": [
    {
     "name": "stdout",
     "output_type": "stream",
     "text": [
      "Missing values exist: False\n"
     ]
    }
   ],
   "source": [
    "missing_values = data_df.isnull().any().any()\n",
    "print(\"Missing values exist: {}\".format(missing_values))"
   ]
  },
  {
   "cell_type": "markdown",
   "metadata": {},
   "source": [
    "# 1. Análisis inicial de datos\n",
    "\n",
    "Analizar el dataset para utilizar solamente las 200 películas con mayor cantidad de votos y los usuarios que hayan votado al menos 100 películas."
   ]
  },
  {
   "cell_type": "code",
   "execution_count": 7,
   "metadata": {},
   "outputs": [],
   "source": [
    "movie_vote_counts = data_df.groupby('movieId').size().sort_values(ascending=False)\n",
    "top_200_movies = movie_vote_counts.head(200).index\n",
    "\n",
    "filtered_data = data_df[data_df['movieId'].isin(top_200_movies)]"
   ]
  },
  {
   "cell_type": "code",
   "execution_count": 8,
   "metadata": {},
   "outputs": [],
   "source": [
    "user_vote_counts = filtered_data.groupby('userId').size()\n",
    "active_users = user_vote_counts[user_vote_counts >= 100].index\n",
    "\n",
    "filtered_data = filtered_data[filtered_data['userId'].isin(active_users)]"
   ]
  },
  {
   "cell_type": "code",
   "execution_count": 9,
   "metadata": {},
   "outputs": [
    {
     "name": "stdout",
     "output_type": "stream",
     "text": [
      "<class 'pandas.core.frame.DataFrame'>\n",
      "Index: 8329 entries, 1772 to 100452\n",
      "Data columns (total 4 columns):\n",
      " #   Column     Non-Null Count  Dtype  \n",
      "---  ------     --------------  -----  \n",
      " 0   userId     8329 non-null   int64  \n",
      " 1   movieId    8329 non-null   int64  \n",
      " 2   rating     8329 non-null   float64\n",
      " 3   timestamp  8329 non-null   int64  \n",
      "dtypes: float64(1), int64(3)\n",
      "memory usage: 325.4 KB\n"
     ]
    }
   ],
   "source": [
    "filtered_data.info()"
   ]
  },
  {
   "cell_type": "code",
   "execution_count": 10,
   "metadata": {},
   "outputs": [],
   "source": [
    "x = filtered_data.drop(['userId', 'movieId', 'rating'], axis=1)\n",
    "y = filtered_data['rating']"
   ]
  },
  {
   "cell_type": "code",
   "execution_count": 11,
   "metadata": {},
   "outputs": [],
   "source": [
    "x = x.to_numpy()\n",
    "y = y.to_numpy()\n",
    "\n",
    "# Normalize the data\n",
    "scaler = MinMaxScaler()\n",
    "x_norm = scaler.fit_transform(x)"
   ]
  },
  {
   "cell_type": "code",
   "execution_count": 12,
   "metadata": {},
   "outputs": [],
   "source": [
    "idx = np.random.permutation(len(x_norm))\n",
    "train_idx = idx[:int(0.85 * len(x_norm))]\n",
    "valid_idx = idx[int(0.85 * len(x_norm)):]\n",
    "                \n",
    "train_x = x_norm[train_idx]\n",
    "train_y = y[train_idx]\n",
    "valid_x = x_norm[valid_idx]\n",
    "valid_y = y[valid_idx]\n",
    "\n",
    "n_train = len(train_x)\n",
    "n_valid = len(valid_x)"
   ]
  },
  {
   "cell_type": "code",
   "execution_count": 13,
   "metadata": {},
   "outputs": [],
   "source": [
    "user_id = filtered_data['userId']\n",
    "movie_id = filtered_data['movieId']"
   ]
  },
  {
   "cell_type": "code",
   "execution_count": 14,
   "metadata": {},
   "outputs": [],
   "source": [
    "user_id_to_idx = {value: idx for idx, value in enumerate(user_id.unique())}\n",
    "movie_id_to_idx = {value: idx for idx, value in enumerate(movie_id.unique())}"
   ]
  },
  {
   "cell_type": "code",
   "execution_count": 15,
   "metadata": {},
   "outputs": [],
   "source": [
    "user_idx = np.array([user_id_to_idx[value] for value in user_id])\n",
    "movie_idx = np.array([movie_id_to_idx[value] for value in movie_id])"
   ]
  },
  {
   "cell_type": "code",
   "execution_count": 16,
   "metadata": {},
   "outputs": [],
   "source": [
    "user_idx_train = user_idx[train_idx]\n",
    "movie_idx_train = movie_idx[train_idx]\n",
    "\n",
    "user_idx_valid = user_idx[valid_idx]\n",
    "movie_idx_valid = movie_idx[valid_idx]"
   ]
  },
  {
   "cell_type": "code",
   "execution_count": 17,
   "metadata": {},
   "outputs": [],
   "source": [
    "class MyDataset(Dataset):\n",
    "    def __init__(self, x, user_id_idx, movie_id_idx, y):\n",
    "        self.x = x\n",
    "        self.user_id_idx = user_id_idx\n",
    "        self.movie_id_idx = movie_id_idx\n",
    "        self.y = y\n",
    "\n",
    "    def __len__(self):\n",
    "        return len(self.x)\n",
    "\n",
    "    def __getitem__(self, idx):\n",
    "        return self.x[idx], self.user_id_idx[idx], self.movie_id_idx[idx], self.y[idx]"
   ]
  },
  {
   "cell_type": "code",
   "execution_count": 18,
   "metadata": {},
   "outputs": [],
   "source": [
    "train_dataset = MyDataset(train_x, user_idx_train, movie_idx_train, train_y)\n",
    "valid_dataset = MyDataset(valid_x, user_idx_valid, movie_idx_valid, valid_y)"
   ]
  },
  {
   "cell_type": "code",
   "execution_count": 19,
   "metadata": {},
   "outputs": [],
   "source": [
    "batch_size = 64\n",
    "train_loader = DataLoader(train_dataset, batch_size=batch_size, shuffle=True)\n",
    "valid_loader = DataLoader(valid_dataset, batch_size=batch_size)"
   ]
  },
  {
   "cell_type": "markdown",
   "metadata": {},
   "source": [
    "# 2. Construcción de la red neuronal"
   ]
  },
  {
   "cell_type": "markdown",
   "metadata": {},
   "source": [
    "A partir del dataset del punto 1, construir una única red neuronal que utilice una capa de embeddings para el id de usuario, una capa de embeddings para el id de película y al menos dos capas lineales que sea capaz de predecir el puntaje que cada usuario colocó a cada pelicula. Usar tecnicas de normalizacion en caso de ser necesario."
   ]
  },
  {
   "cell_type": "code",
   "execution_count": 20,
   "metadata": {},
   "outputs": [],
   "source": [
    "class NNet(torch.nn.Module):\n",
    "    def __init__(self, num_users, num_movies, embedding_dim=8):\n",
    "        super(NNet, self).__init__()\n",
    "        self.user_embedding = torch.nn.Embedding(num_users, embedding_dim)\n",
    "        self.movie_embedding = torch.nn.Embedding(num_movies, embedding_dim)\n",
    "        self.fc1 = torch.nn.Linear(1 + embedding_dim*2, 128, bias=True)\n",
    "        self.dropout_1 = torch.nn.Dropout(0.4)\n",
    "        self.fc2 = torch.nn.Linear(128, 64, bias=True)\n",
    "        self.dropout_2 = torch.nn.Dropout(0.3)\n",
    "        self.fc3 = torch.nn.Linear(64, 1, bias=True)\n",
    "        self.relu = torch.nn.ReLU()\n",
    "        self.sigmoid = torch.nn.Sigmoid()\n",
    "        \n",
    "    def forward(self, x, user_ids, movie_ids):\n",
    "        user_embeds = self.user_embedding(user_ids)\n",
    "        movie_embeds = self.movie_embedding(movie_ids)\n",
    "        x = torch.cat([x, user_embeds, movie_embeds], dim=1)\n",
    "        x = self.relu(self.fc1(x))\n",
    "        x = self.dropout_1(x)\n",
    "        x = self.relu(self.fc2(x))\n",
    "        x = self.dropout_2(x)\n",
    "        x = self.fc3(x)\n",
    "        x = self.sigmoid(x) * 5\n",
    "        return x"
   ]
  },
  {
   "cell_type": "code",
   "execution_count": 31,
   "metadata": {},
   "outputs": [],
   "source": [
    "num_users = len(filtered_data['userId'].unique())\n",
    "num_movies = len(filtered_data['movieId'].unique())\n",
    "model = NNet(num_users, num_movies)\n",
    "\n",
    "if use_cuda:\n",
    "    model = model.to('cuda')"
   ]
  },
  {
   "cell_type": "code",
   "execution_count": 32,
   "metadata": {},
   "outputs": [],
   "source": [
    "loss_fn = torch.nn.MSELoss()\n",
    "optimizer = torch.optim.Adam(model.parameters(), lr=0.0001, weight_decay=1e-4)"
   ]
  },
  {
   "cell_type": "code",
   "execution_count": 33,
   "metadata": {},
   "outputs": [
    {
     "name": "stdout",
     "output_type": "stream",
     "text": [
      "Epoch: 0, Train Loss: 0.0263, Train MSE: 1.6800, Valid Loss: 0.0168, Valid MSE: 1.0543\n",
      "Epoch: 1, Train Loss: 0.0147, Train MSE: 0.9403, Valid Loss: 0.0128, Valid MSE: 0.8043\n",
      "Epoch: 2, Train Loss: 0.0136, Train MSE: 0.8666, Valid Loss: 0.0125, Valid MSE: 0.7850\n",
      "Epoch: 3, Train Loss: 0.0133, Train MSE: 0.8484, Valid Loss: 0.0123, Valid MSE: 0.7731\n",
      "Epoch: 4, Train Loss: 0.0131, Train MSE: 0.8366, Valid Loss: 0.0122, Valid MSE: 0.7645\n",
      "Epoch: 5, Train Loss: 0.0130, Train MSE: 0.8268, Valid Loss: 0.0121, Valid MSE: 0.7587\n",
      "Epoch: 6, Train Loss: 0.0129, Train MSE: 0.8202, Valid Loss: 0.0120, Valid MSE: 0.7538\n",
      "Epoch: 7, Train Loss: 0.0127, Train MSE: 0.8100, Valid Loss: 0.0120, Valid MSE: 0.7503\n",
      "Epoch: 8, Train Loss: 0.0127, Train MSE: 0.8090, Valid Loss: 0.0119, Valid MSE: 0.7469\n",
      "Epoch: 9, Train Loss: 0.0127, Train MSE: 0.8091, Valid Loss: 0.0119, Valid MSE: 0.7452\n",
      "Epoch: 10, Train Loss: 0.0126, Train MSE: 0.8017, Valid Loss: 0.0119, Valid MSE: 0.7416\n",
      "Epoch: 11, Train Loss: 0.0125, Train MSE: 0.7956, Valid Loss: 0.0118, Valid MSE: 0.7394\n",
      "Epoch: 12, Train Loss: 0.0124, Train MSE: 0.7901, Valid Loss: 0.0118, Valid MSE: 0.7377\n",
      "Epoch: 13, Train Loss: 0.0123, Train MSE: 0.7840, Valid Loss: 0.0118, Valid MSE: 0.7356\n",
      "Epoch: 14, Train Loss: 0.0125, Train MSE: 0.7936, Valid Loss: 0.0117, Valid MSE: 0.7332\n",
      "Epoch: 15, Train Loss: 0.0122, Train MSE: 0.7801, Valid Loss: 0.0117, Valid MSE: 0.7312\n",
      "Epoch: 16, Train Loss: 0.0122, Train MSE: 0.7797, Valid Loss: 0.0117, Valid MSE: 0.7299\n",
      "Epoch: 17, Train Loss: 0.0122, Train MSE: 0.7794, Valid Loss: 0.0116, Valid MSE: 0.7276\n",
      "Epoch: 18, Train Loss: 0.0122, Train MSE: 0.7747, Valid Loss: 0.0116, Valid MSE: 0.7262\n",
      "Epoch: 19, Train Loss: 0.0120, Train MSE: 0.7693, Valid Loss: 0.0116, Valid MSE: 0.7239\n",
      "Epoch: 20, Train Loss: 0.0121, Train MSE: 0.7746, Valid Loss: 0.0116, Valid MSE: 0.7225\n",
      "Epoch: 21, Train Loss: 0.0120, Train MSE: 0.7662, Valid Loss: 0.0115, Valid MSE: 0.7212\n",
      "Epoch: 22, Train Loss: 0.0120, Train MSE: 0.7635, Valid Loss: 0.0115, Valid MSE: 0.7187\n",
      "Epoch: 23, Train Loss: 0.0119, Train MSE: 0.7562, Valid Loss: 0.0115, Valid MSE: 0.7165\n",
      "Epoch: 24, Train Loss: 0.0120, Train MSE: 0.7627, Valid Loss: 0.0114, Valid MSE: 0.7152\n",
      "Epoch: 25, Train Loss: 0.0118, Train MSE: 0.7537, Valid Loss: 0.0114, Valid MSE: 0.7133\n",
      "Epoch: 26, Train Loss: 0.0119, Train MSE: 0.7558, Valid Loss: 0.0114, Valid MSE: 0.7117\n",
      "Epoch: 27, Train Loss: 0.0118, Train MSE: 0.7530, Valid Loss: 0.0114, Valid MSE: 0.7103\n",
      "Epoch: 28, Train Loss: 0.0118, Train MSE: 0.7522, Valid Loss: 0.0113, Valid MSE: 0.7083\n",
      "Epoch: 29, Train Loss: 0.0117, Train MSE: 0.7489, Valid Loss: 0.0113, Valid MSE: 0.7071\n",
      "Epoch: 30, Train Loss: 0.0117, Train MSE: 0.7468, Valid Loss: 0.0113, Valid MSE: 0.7047\n",
      "Epoch: 31, Train Loss: 0.0117, Train MSE: 0.7459, Valid Loss: 0.0113, Valid MSE: 0.7037\n",
      "Epoch: 32, Train Loss: 0.0117, Train MSE: 0.7443, Valid Loss: 0.0112, Valid MSE: 0.7019\n",
      "Epoch: 33, Train Loss: 0.0115, Train MSE: 0.7361, Valid Loss: 0.0112, Valid MSE: 0.6998\n",
      "Epoch: 34, Train Loss: 0.0115, Train MSE: 0.7305, Valid Loss: 0.0112, Valid MSE: 0.6994\n",
      "Epoch: 35, Train Loss: 0.0115, Train MSE: 0.7323, Valid Loss: 0.0112, Valid MSE: 0.6975\n",
      "Epoch: 36, Train Loss: 0.0116, Train MSE: 0.7375, Valid Loss: 0.0111, Valid MSE: 0.6959\n",
      "Epoch: 37, Train Loss: 0.0114, Train MSE: 0.7274, Valid Loss: 0.0111, Valid MSE: 0.6941\n",
      "Epoch: 38, Train Loss: 0.0114, Train MSE: 0.7237, Valid Loss: 0.0111, Valid MSE: 0.6921\n",
      "Epoch: 39, Train Loss: 0.0113, Train MSE: 0.7229, Valid Loss: 0.0111, Valid MSE: 0.6904\n",
      "Epoch: 40, Train Loss: 0.0113, Train MSE: 0.7217, Valid Loss: 0.0110, Valid MSE: 0.6891\n",
      "Epoch: 41, Train Loss: 0.0113, Train MSE: 0.7196, Valid Loss: 0.0110, Valid MSE: 0.6875\n",
      "Epoch: 42, Train Loss: 0.0112, Train MSE: 0.7164, Valid Loss: 0.0110, Valid MSE: 0.6862\n",
      "Epoch: 43, Train Loss: 0.0113, Train MSE: 0.7208, Valid Loss: 0.0110, Valid MSE: 0.6851\n",
      "Epoch: 44, Train Loss: 0.0111, Train MSE: 0.7103, Valid Loss: 0.0109, Valid MSE: 0.6835\n",
      "Epoch: 45, Train Loss: 0.0112, Train MSE: 0.7162, Valid Loss: 0.0109, Valid MSE: 0.6821\n",
      "Epoch: 46, Train Loss: 0.0113, Train MSE: 0.7181, Valid Loss: 0.0109, Valid MSE: 0.6802\n",
      "Epoch: 47, Train Loss: 0.0111, Train MSE: 0.7071, Valid Loss: 0.0109, Valid MSE: 0.6785\n",
      "Epoch: 48, Train Loss: 0.0112, Train MSE: 0.7127, Valid Loss: 0.0108, Valid MSE: 0.6773\n",
      "Epoch: 49, Train Loss: 0.0110, Train MSE: 0.7041, Valid Loss: 0.0108, Valid MSE: 0.6761\n",
      "Epoch: 50, Train Loss: 0.0110, Train MSE: 0.6988, Valid Loss: 0.0108, Valid MSE: 0.6743\n",
      "Epoch: 51, Train Loss: 0.0110, Train MSE: 0.6989, Valid Loss: 0.0108, Valid MSE: 0.6729\n",
      "Epoch: 52, Train Loss: 0.0110, Train MSE: 0.7026, Valid Loss: 0.0107, Valid MSE: 0.6716\n",
      "Epoch: 53, Train Loss: 0.0110, Train MSE: 0.7017, Valid Loss: 0.0107, Valid MSE: 0.6697\n",
      "Epoch: 54, Train Loss: 0.0109, Train MSE: 0.6961, Valid Loss: 0.0107, Valid MSE: 0.6687\n",
      "Epoch: 55, Train Loss: 0.0110, Train MSE: 0.6998, Valid Loss: 0.0107, Valid MSE: 0.6670\n",
      "Epoch: 56, Train Loss: 0.0109, Train MSE: 0.6938, Valid Loss: 0.0107, Valid MSE: 0.6663\n",
      "Epoch: 57, Train Loss: 0.0108, Train MSE: 0.6894, Valid Loss: 0.0106, Valid MSE: 0.6636\n",
      "Epoch: 58, Train Loss: 0.0108, Train MSE: 0.6886, Valid Loss: 0.0106, Valid MSE: 0.6623\n",
      "Epoch: 59, Train Loss: 0.0107, Train MSE: 0.6844, Valid Loss: 0.0106, Valid MSE: 0.6604\n",
      "Epoch: 60, Train Loss: 0.0108, Train MSE: 0.6906, Valid Loss: 0.0106, Valid MSE: 0.6591\n",
      "Epoch: 61, Train Loss: 0.0107, Train MSE: 0.6843, Valid Loss: 0.0105, Valid MSE: 0.6578\n",
      "Epoch: 62, Train Loss: 0.0107, Train MSE: 0.6808, Valid Loss: 0.0105, Valid MSE: 0.6565\n",
      "Epoch: 63, Train Loss: 0.0107, Train MSE: 0.6819, Valid Loss: 0.0105, Valid MSE: 0.6547\n",
      "Epoch: 64, Train Loss: 0.0107, Train MSE: 0.6811, Valid Loss: 0.0105, Valid MSE: 0.6540\n",
      "Epoch: 65, Train Loss: 0.0106, Train MSE: 0.6778, Valid Loss: 0.0104, Valid MSE: 0.6525\n",
      "Epoch: 66, Train Loss: 0.0106, Train MSE: 0.6735, Valid Loss: 0.0104, Valid MSE: 0.6516\n",
      "Epoch: 67, Train Loss: 0.0105, Train MSE: 0.6694, Valid Loss: 0.0104, Valid MSE: 0.6500\n",
      "Epoch: 68, Train Loss: 0.0104, Train MSE: 0.6636, Valid Loss: 0.0104, Valid MSE: 0.6490\n",
      "Epoch: 69, Train Loss: 0.0105, Train MSE: 0.6687, Valid Loss: 0.0104, Valid MSE: 0.6469\n",
      "Epoch: 70, Train Loss: 0.0106, Train MSE: 0.6733, Valid Loss: 0.0103, Valid MSE: 0.6457\n",
      "Epoch: 71, Train Loss: 0.0104, Train MSE: 0.6629, Valid Loss: 0.0103, Valid MSE: 0.6443\n",
      "Epoch: 72, Train Loss: 0.0104, Train MSE: 0.6609, Valid Loss: 0.0103, Valid MSE: 0.6437\n",
      "Epoch: 73, Train Loss: 0.0104, Train MSE: 0.6633, Valid Loss: 0.0103, Valid MSE: 0.6425\n",
      "Epoch: 74, Train Loss: 0.0104, Train MSE: 0.6667, Valid Loss: 0.0103, Valid MSE: 0.6412\n",
      "Epoch: 75, Train Loss: 0.0103, Train MSE: 0.6579, Valid Loss: 0.0102, Valid MSE: 0.6400\n",
      "Epoch: 76, Train Loss: 0.0103, Train MSE: 0.6571, Valid Loss: 0.0102, Valid MSE: 0.6395\n",
      "Epoch: 77, Train Loss: 0.0104, Train MSE: 0.6594, Valid Loss: 0.0102, Valid MSE: 0.6382\n",
      "Epoch: 78, Train Loss: 0.0102, Train MSE: 0.6500, Valid Loss: 0.0102, Valid MSE: 0.6371\n",
      "Epoch: 79, Train Loss: 0.0102, Train MSE: 0.6472, Valid Loss: 0.0102, Valid MSE: 0.6349\n",
      "Epoch: 80, Train Loss: 0.0102, Train MSE: 0.6485, Valid Loss: 0.0101, Valid MSE: 0.6335\n",
      "Epoch: 81, Train Loss: 0.0102, Train MSE: 0.6501, Valid Loss: 0.0101, Valid MSE: 0.6325\n",
      "Epoch: 82, Train Loss: 0.0102, Train MSE: 0.6482, Valid Loss: 0.0101, Valid MSE: 0.6320\n",
      "Epoch: 83, Train Loss: 0.0102, Train MSE: 0.6501, Valid Loss: 0.0101, Valid MSE: 0.6302\n",
      "Epoch: 84, Train Loss: 0.0102, Train MSE: 0.6480, Valid Loss: 0.0101, Valid MSE: 0.6286\n",
      "Epoch: 85, Train Loss: 0.0101, Train MSE: 0.6458, Valid Loss: 0.0101, Valid MSE: 0.6277\n",
      "Epoch: 86, Train Loss: 0.0102, Train MSE: 0.6490, Valid Loss: 0.0100, Valid MSE: 0.6259\n",
      "Epoch: 87, Train Loss: 0.0101, Train MSE: 0.6411, Valid Loss: 0.0100, Valid MSE: 0.6258\n",
      "Epoch: 88, Train Loss: 0.0100, Train MSE: 0.6393, Valid Loss: 0.0100, Valid MSE: 0.6245\n",
      "Epoch: 89, Train Loss: 0.0100, Train MSE: 0.6340, Valid Loss: 0.0100, Valid MSE: 0.6236\n",
      "Epoch: 90, Train Loss: 0.0101, Train MSE: 0.6419, Valid Loss: 0.0100, Valid MSE: 0.6222\n",
      "Epoch: 91, Train Loss: 0.0101, Train MSE: 0.6419, Valid Loss: 0.0099, Valid MSE: 0.6209\n",
      "Epoch: 92, Train Loss: 0.0099, Train MSE: 0.6320, Valid Loss: 0.0099, Valid MSE: 0.6201\n",
      "Epoch: 93, Train Loss: 0.0099, Train MSE: 0.6334, Valid Loss: 0.0099, Valid MSE: 0.6185\n",
      "Epoch: 94, Train Loss: 0.0098, Train MSE: 0.6262, Valid Loss: 0.0099, Valid MSE: 0.6181\n",
      "Epoch: 95, Train Loss: 0.0099, Train MSE: 0.6314, Valid Loss: 0.0099, Valid MSE: 0.6179\n",
      "Epoch: 96, Train Loss: 0.0098, Train MSE: 0.6277, Valid Loss: 0.0099, Valid MSE: 0.6172\n",
      "Epoch: 97, Train Loss: 0.0098, Train MSE: 0.6256, Valid Loss: 0.0099, Valid MSE: 0.6155\n",
      "Epoch: 98, Train Loss: 0.0098, Train MSE: 0.6241, Valid Loss: 0.0098, Valid MSE: 0.6140\n",
      "Epoch: 99, Train Loss: 0.0098, Train MSE: 0.6243, Valid Loss: 0.0098, Valid MSE: 0.6134\n",
      "Epoch: 100, Train Loss: 0.0098, Train MSE: 0.6223, Valid Loss: 0.0098, Valid MSE: 0.6129\n",
      "Epoch: 101, Train Loss: 0.0098, Train MSE: 0.6250, Valid Loss: 0.0098, Valid MSE: 0.6121\n",
      "Epoch: 102, Train Loss: 0.0097, Train MSE: 0.6186, Valid Loss: 0.0098, Valid MSE: 0.6120\n",
      "Epoch: 103, Train Loss: 0.0096, Train MSE: 0.6133, Valid Loss: 0.0098, Valid MSE: 0.6104\n",
      "Epoch: 104, Train Loss: 0.0096, Train MSE: 0.6101, Valid Loss: 0.0098, Valid MSE: 0.6090\n",
      "Epoch: 105, Train Loss: 0.0097, Train MSE: 0.6185, Valid Loss: 0.0097, Valid MSE: 0.6079\n",
      "Epoch: 106, Train Loss: 0.0097, Train MSE: 0.6184, Valid Loss: 0.0098, Valid MSE: 0.6087\n",
      "Epoch: 107, Train Loss: 0.0096, Train MSE: 0.6115, Valid Loss: 0.0097, Valid MSE: 0.6073\n",
      "Epoch: 108, Train Loss: 0.0097, Train MSE: 0.6181, Valid Loss: 0.0097, Valid MSE: 0.6078\n",
      "Epoch: 109, Train Loss: 0.0095, Train MSE: 0.6061, Valid Loss: 0.0097, Valid MSE: 0.6060\n",
      "Epoch: 110, Train Loss: 0.0095, Train MSE: 0.6073, Valid Loss: 0.0097, Valid MSE: 0.6054\n",
      "Epoch: 111, Train Loss: 0.0096, Train MSE: 0.6110, Valid Loss: 0.0097, Valid MSE: 0.6045\n",
      "Epoch: 112, Train Loss: 0.0095, Train MSE: 0.6075, Valid Loss: 0.0097, Valid MSE: 0.6036\n",
      "Epoch: 113, Train Loss: 0.0095, Train MSE: 0.6024, Valid Loss: 0.0097, Valid MSE: 0.6039\n",
      "Epoch: 114, Train Loss: 0.0094, Train MSE: 0.6018, Valid Loss: 0.0097, Valid MSE: 0.6022\n",
      "Epoch: 115, Train Loss: 0.0095, Train MSE: 0.6034, Valid Loss: 0.0096, Valid MSE: 0.6012\n",
      "Epoch: 116, Train Loss: 0.0094, Train MSE: 0.6008, Valid Loss: 0.0096, Valid MSE: 0.6014\n",
      "Epoch: 117, Train Loss: 0.0095, Train MSE: 0.6063, Valid Loss: 0.0096, Valid MSE: 0.5995\n",
      "Epoch: 118, Train Loss: 0.0094, Train MSE: 0.5998, Valid Loss: 0.0096, Valid MSE: 0.5988\n",
      "Epoch: 119, Train Loss: 0.0094, Train MSE: 0.6003, Valid Loss: 0.0096, Valid MSE: 0.5997\n",
      "Epoch: 120, Train Loss: 0.0094, Train MSE: 0.5976, Valid Loss: 0.0096, Valid MSE: 0.5985\n",
      "Epoch: 121, Train Loss: 0.0094, Train MSE: 0.5960, Valid Loss: 0.0096, Valid MSE: 0.5963\n",
      "Epoch: 122, Train Loss: 0.0094, Train MSE: 0.6028, Valid Loss: 0.0096, Valid MSE: 0.5958\n",
      "Epoch: 123, Train Loss: 0.0094, Train MSE: 0.5962, Valid Loss: 0.0095, Valid MSE: 0.5946\n",
      "Epoch: 124, Train Loss: 0.0094, Train MSE: 0.5964, Valid Loss: 0.0095, Valid MSE: 0.5944\n",
      "Epoch: 125, Train Loss: 0.0094, Train MSE: 0.6005, Valid Loss: 0.0095, Valid MSE: 0.5944\n",
      "Epoch: 126, Train Loss: 0.0092, Train MSE: 0.5879, Valid Loss: 0.0095, Valid MSE: 0.5927\n",
      "Epoch: 127, Train Loss: 0.0092, Train MSE: 0.5897, Valid Loss: 0.0095, Valid MSE: 0.5941\n",
      "Epoch: 128, Train Loss: 0.0092, Train MSE: 0.5899, Valid Loss: 0.0095, Valid MSE: 0.5915\n",
      "Epoch: 129, Train Loss: 0.0092, Train MSE: 0.5888, Valid Loss: 0.0095, Valid MSE: 0.5930\n",
      "Epoch: 130, Train Loss: 0.0094, Train MSE: 0.5989, Valid Loss: 0.0095, Valid MSE: 0.5912\n",
      "Epoch: 131, Train Loss: 0.0092, Train MSE: 0.5885, Valid Loss: 0.0095, Valid MSE: 0.5907\n",
      "Epoch: 132, Train Loss: 0.0092, Train MSE: 0.5841, Valid Loss: 0.0095, Valid MSE: 0.5899\n",
      "Epoch: 133, Train Loss: 0.0092, Train MSE: 0.5904, Valid Loss: 0.0094, Valid MSE: 0.5891\n",
      "Epoch: 134, Train Loss: 0.0092, Train MSE: 0.5849, Valid Loss: 0.0094, Valid MSE: 0.5877\n",
      "Epoch: 135, Train Loss: 0.0091, Train MSE: 0.5805, Valid Loss: 0.0094, Valid MSE: 0.5873\n",
      "Epoch: 136, Train Loss: 0.0091, Train MSE: 0.5788, Valid Loss: 0.0094, Valid MSE: 0.5877\n",
      "Epoch: 137, Train Loss: 0.0091, Train MSE: 0.5798, Valid Loss: 0.0094, Valid MSE: 0.5875\n",
      "Epoch: 138, Train Loss: 0.0091, Train MSE: 0.5805, Valid Loss: 0.0094, Valid MSE: 0.5866\n",
      "Epoch: 139, Train Loss: 0.0092, Train MSE: 0.5839, Valid Loss: 0.0094, Valid MSE: 0.5860\n",
      "Epoch: 140, Train Loss: 0.0091, Train MSE: 0.5834, Valid Loss: 0.0094, Valid MSE: 0.5841\n",
      "Epoch: 141, Train Loss: 0.0091, Train MSE: 0.5789, Valid Loss: 0.0094, Valid MSE: 0.5837\n",
      "Epoch: 142, Train Loss: 0.0091, Train MSE: 0.5793, Valid Loss: 0.0094, Valid MSE: 0.5838\n",
      "Epoch: 143, Train Loss: 0.0090, Train MSE: 0.5741, Valid Loss: 0.0094, Valid MSE: 0.5834\n",
      "Epoch: 144, Train Loss: 0.0091, Train MSE: 0.5780, Valid Loss: 0.0094, Valid MSE: 0.5835\n",
      "Epoch: 145, Train Loss: 0.0090, Train MSE: 0.5731, Valid Loss: 0.0094, Valid MSE: 0.5834\n",
      "Epoch: 146, Train Loss: 0.0090, Train MSE: 0.5763, Valid Loss: 0.0094, Valid MSE: 0.5847\n",
      "Epoch: 147, Train Loss: 0.0090, Train MSE: 0.5718, Valid Loss: 0.0093, Valid MSE: 0.5821\n",
      "Epoch: 148, Train Loss: 0.0089, Train MSE: 0.5699, Valid Loss: 0.0094, Valid MSE: 0.5829\n",
      "Epoch: 149, Train Loss: 0.0090, Train MSE: 0.5754, Valid Loss: 0.0093, Valid MSE: 0.5815\n",
      "Epoch: 150, Train Loss: 0.0090, Train MSE: 0.5707, Valid Loss: 0.0093, Valid MSE: 0.5808\n",
      "Epoch: 151, Train Loss: 0.0090, Train MSE: 0.5732, Valid Loss: 0.0093, Valid MSE: 0.5799\n",
      "Epoch: 152, Train Loss: 0.0089, Train MSE: 0.5685, Valid Loss: 0.0093, Valid MSE: 0.5793\n",
      "Epoch: 153, Train Loss: 0.0088, Train MSE: 0.5632, Valid Loss: 0.0093, Valid MSE: 0.5790\n",
      "Epoch: 154, Train Loss: 0.0090, Train MSE: 0.5740, Valid Loss: 0.0093, Valid MSE: 0.5787\n",
      "Epoch: 155, Train Loss: 0.0089, Train MSE: 0.5645, Valid Loss: 0.0093, Valid MSE: 0.5787\n",
      "Epoch: 156, Train Loss: 0.0090, Train MSE: 0.5751, Valid Loss: 0.0093, Valid MSE: 0.5776\n",
      "Epoch: 157, Train Loss: 0.0089, Train MSE: 0.5648, Valid Loss: 0.0093, Valid MSE: 0.5788\n",
      "Epoch: 158, Train Loss: 0.0089, Train MSE: 0.5694, Valid Loss: 0.0093, Valid MSE: 0.5771\n",
      "Epoch: 159, Train Loss: 0.0089, Train MSE: 0.5646, Valid Loss: 0.0093, Valid MSE: 0.5778\n",
      "Epoch: 160, Train Loss: 0.0089, Train MSE: 0.5655, Valid Loss: 0.0093, Valid MSE: 0.5767\n",
      "Epoch: 161, Train Loss: 0.0089, Train MSE: 0.5693, Valid Loss: 0.0092, Valid MSE: 0.5761\n",
      "Epoch: 162, Train Loss: 0.0088, Train MSE: 0.5619, Valid Loss: 0.0092, Valid MSE: 0.5760\n",
      "Epoch: 163, Train Loss: 0.0087, Train MSE: 0.5580, Valid Loss: 0.0092, Valid MSE: 0.5748\n",
      "Epoch: 164, Train Loss: 0.0087, Train MSE: 0.5561, Valid Loss: 0.0092, Valid MSE: 0.5748\n",
      "Epoch: 165, Train Loss: 0.0087, Train MSE: 0.5562, Valid Loss: 0.0092, Valid MSE: 0.5739\n",
      "Epoch: 166, Train Loss: 0.0087, Train MSE: 0.5560, Valid Loss: 0.0092, Valid MSE: 0.5733\n",
      "Epoch: 167, Train Loss: 0.0088, Train MSE: 0.5600, Valid Loss: 0.0092, Valid MSE: 0.5734\n",
      "Epoch: 168, Train Loss: 0.0088, Train MSE: 0.5583, Valid Loss: 0.0092, Valid MSE: 0.5736\n",
      "Epoch: 169, Train Loss: 0.0088, Train MSE: 0.5588, Valid Loss: 0.0092, Valid MSE: 0.5721\n",
      "Epoch: 170, Train Loss: 0.0087, Train MSE: 0.5563, Valid Loss: 0.0092, Valid MSE: 0.5725\n",
      "Epoch: 171, Train Loss: 0.0088, Train MSE: 0.5589, Valid Loss: 0.0092, Valid MSE: 0.5731\n",
      "Epoch: 172, Train Loss: 0.0087, Train MSE: 0.5590, Valid Loss: 0.0092, Valid MSE: 0.5728\n",
      "Epoch: 173, Train Loss: 0.0087, Train MSE: 0.5574, Valid Loss: 0.0092, Valid MSE: 0.5722\n",
      "Epoch: 174, Train Loss: 0.0087, Train MSE: 0.5535, Valid Loss: 0.0092, Valid MSE: 0.5722\n",
      "Epoch: 175, Train Loss: 0.0088, Train MSE: 0.5592, Valid Loss: 0.0092, Valid MSE: 0.5714\n",
      "Epoch: 176, Train Loss: 0.0087, Train MSE: 0.5576, Valid Loss: 0.0092, Valid MSE: 0.5704\n",
      "Epoch: 177, Train Loss: 0.0087, Train MSE: 0.5517, Valid Loss: 0.0091, Valid MSE: 0.5686\n",
      "Epoch: 178, Train Loss: 0.0088, Train MSE: 0.5586, Valid Loss: 0.0091, Valid MSE: 0.5689\n",
      "Epoch: 179, Train Loss: 0.0086, Train MSE: 0.5493, Valid Loss: 0.0091, Valid MSE: 0.5699\n",
      "Epoch: 180, Train Loss: 0.0086, Train MSE: 0.5490, Valid Loss: 0.0091, Valid MSE: 0.5680\n",
      "Epoch: 181, Train Loss: 0.0086, Train MSE: 0.5467, Valid Loss: 0.0091, Valid MSE: 0.5678\n",
      "Epoch: 182, Train Loss: 0.0086, Train MSE: 0.5457, Valid Loss: 0.0091, Valid MSE: 0.5690\n",
      "Epoch: 183, Train Loss: 0.0086, Train MSE: 0.5506, Valid Loss: 0.0091, Valid MSE: 0.5676\n",
      "Epoch: 184, Train Loss: 0.0087, Train MSE: 0.5529, Valid Loss: 0.0091, Valid MSE: 0.5680\n",
      "Epoch: 185, Train Loss: 0.0086, Train MSE: 0.5465, Valid Loss: 0.0091, Valid MSE: 0.5687\n",
      "Epoch: 186, Train Loss: 0.0085, Train MSE: 0.5427, Valid Loss: 0.0091, Valid MSE: 0.5680\n",
      "Epoch: 187, Train Loss: 0.0086, Train MSE: 0.5451, Valid Loss: 0.0091, Valid MSE: 0.5688\n",
      "Epoch: 188, Train Loss: 0.0085, Train MSE: 0.5440, Valid Loss: 0.0091, Valid MSE: 0.5688\n",
      "Epoch: 189, Train Loss: 0.0087, Train MSE: 0.5520, Valid Loss: 0.0091, Valid MSE: 0.5678\n",
      "Epoch: 190, Train Loss: 0.0086, Train MSE: 0.5465, Valid Loss: 0.0091, Valid MSE: 0.5689\n",
      "Epoch: 191, Train Loss: 0.0086, Train MSE: 0.5499, Valid Loss: 0.0091, Valid MSE: 0.5672\n",
      "Epoch: 192, Train Loss: 0.0086, Train MSE: 0.5492, Valid Loss: 0.0091, Valid MSE: 0.5693\n",
      "Epoch: 193, Train Loss: 0.0085, Train MSE: 0.5453, Valid Loss: 0.0091, Valid MSE: 0.5652\n",
      "Epoch: 194, Train Loss: 0.0085, Train MSE: 0.5423, Valid Loss: 0.0091, Valid MSE: 0.5654\n",
      "Epoch: 195, Train Loss: 0.0086, Train MSE: 0.5462, Valid Loss: 0.0091, Valid MSE: 0.5644\n",
      "Epoch: 196, Train Loss: 0.0086, Train MSE: 0.5470, Valid Loss: 0.0091, Valid MSE: 0.5647\n",
      "Epoch: 197, Train Loss: 0.0085, Train MSE: 0.5446, Valid Loss: 0.0091, Valid MSE: 0.5653\n",
      "Epoch: 198, Train Loss: 0.0084, Train MSE: 0.5371, Valid Loss: 0.0091, Valid MSE: 0.5663\n",
      "Epoch: 199, Train Loss: 0.0084, Train MSE: 0.5381, Valid Loss: 0.0091, Valid MSE: 0.5649\n",
      "Epoch: 200, Train Loss: 0.0085, Train MSE: 0.5434, Valid Loss: 0.0091, Valid MSE: 0.5660\n",
      "Epoch: 201, Train Loss: 0.0084, Train MSE: 0.5351, Valid Loss: 0.0091, Valid MSE: 0.5639\n",
      "Epoch: 202, Train Loss: 0.0084, Train MSE: 0.5370, Valid Loss: 0.0091, Valid MSE: 0.5641\n",
      "Epoch: 203, Train Loss: 0.0083, Train MSE: 0.5312, Valid Loss: 0.0091, Valid MSE: 0.5662\n",
      "Epoch: 204, Train Loss: 0.0084, Train MSE: 0.5348, Valid Loss: 0.0090, Valid MSE: 0.5627\n",
      "Epoch: 205, Train Loss: 0.0085, Train MSE: 0.5396, Valid Loss: 0.0091, Valid MSE: 0.5640\n",
      "Epoch: 206, Train Loss: 0.0084, Train MSE: 0.5372, Valid Loss: 0.0091, Valid MSE: 0.5641\n",
      "Epoch: 207, Train Loss: 0.0083, Train MSE: 0.5326, Valid Loss: 0.0090, Valid MSE: 0.5632\n",
      "Epoch: 208, Train Loss: 0.0084, Train MSE: 0.5345, Valid Loss: 0.0090, Valid MSE: 0.5621\n",
      "Epoch: 209, Train Loss: 0.0085, Train MSE: 0.5431, Valid Loss: 0.0090, Valid MSE: 0.5635\n",
      "Epoch: 210, Train Loss: 0.0083, Train MSE: 0.5311, Valid Loss: 0.0090, Valid MSE: 0.5623\n",
      "Epoch: 211, Train Loss: 0.0084, Train MSE: 0.5337, Valid Loss: 0.0090, Valid MSE: 0.5623\n",
      "Epoch: 212, Train Loss: 0.0084, Train MSE: 0.5321, Valid Loss: 0.0090, Valid MSE: 0.5626\n",
      "Epoch: 213, Train Loss: 0.0085, Train MSE: 0.5412, Valid Loss: 0.0090, Valid MSE: 0.5619\n",
      "Epoch: 214, Train Loss: 0.0083, Train MSE: 0.5299, Valid Loss: 0.0090, Valid MSE: 0.5623\n",
      "Epoch: 215, Train Loss: 0.0083, Train MSE: 0.5324, Valid Loss: 0.0090, Valid MSE: 0.5605\n",
      "Epoch: 216, Train Loss: 0.0083, Train MSE: 0.5299, Valid Loss: 0.0090, Valid MSE: 0.5615\n",
      "Epoch: 217, Train Loss: 0.0084, Train MSE: 0.5321, Valid Loss: 0.0090, Valid MSE: 0.5609\n",
      "Epoch: 218, Train Loss: 0.0083, Train MSE: 0.5281, Valid Loss: 0.0090, Valid MSE: 0.5624\n",
      "Epoch: 219, Train Loss: 0.0083, Train MSE: 0.5313, Valid Loss: 0.0090, Valid MSE: 0.5625\n",
      "Epoch: 220, Train Loss: 0.0083, Train MSE: 0.5280, Valid Loss: 0.0090, Valid MSE: 0.5610\n",
      "Epoch: 221, Train Loss: 0.0083, Train MSE: 0.5310, Valid Loss: 0.0090, Valid MSE: 0.5606\n",
      "Epoch: 222, Train Loss: 0.0083, Train MSE: 0.5299, Valid Loss: 0.0090, Valid MSE: 0.5600\n",
      "Epoch: 223, Train Loss: 0.0083, Train MSE: 0.5279, Valid Loss: 0.0090, Valid MSE: 0.5601\n",
      "Epoch: 224, Train Loss: 0.0083, Train MSE: 0.5322, Valid Loss: 0.0090, Valid MSE: 0.5615\n",
      "Epoch: 225, Train Loss: 0.0082, Train MSE: 0.5232, Valid Loss: 0.0090, Valid MSE: 0.5599\n",
      "Epoch: 226, Train Loss: 0.0083, Train MSE: 0.5320, Valid Loss: 0.0090, Valid MSE: 0.5598\n",
      "Epoch: 227, Train Loss: 0.0082, Train MSE: 0.5264, Valid Loss: 0.0090, Valid MSE: 0.5597\n",
      "Epoch: 228, Train Loss: 0.0082, Train MSE: 0.5252, Valid Loss: 0.0090, Valid MSE: 0.5597\n",
      "Epoch: 229, Train Loss: 0.0083, Train MSE: 0.5261, Valid Loss: 0.0090, Valid MSE: 0.5593\n",
      "Epoch: 230, Train Loss: 0.0084, Train MSE: 0.5338, Valid Loss: 0.0090, Valid MSE: 0.5591\n",
      "Epoch: 231, Train Loss: 0.0083, Train MSE: 0.5282, Valid Loss: 0.0090, Valid MSE: 0.5586\n",
      "Epoch: 232, Train Loss: 0.0082, Train MSE: 0.5226, Valid Loss: 0.0090, Valid MSE: 0.5594\n",
      "Epoch: 233, Train Loss: 0.0082, Train MSE: 0.5244, Valid Loss: 0.0090, Valid MSE: 0.5598\n",
      "Epoch: 234, Train Loss: 0.0082, Train MSE: 0.5201, Valid Loss: 0.0090, Valid MSE: 0.5588\n",
      "Epoch: 235, Train Loss: 0.0083, Train MSE: 0.5310, Valid Loss: 0.0090, Valid MSE: 0.5591\n",
      "Epoch: 236, Train Loss: 0.0083, Train MSE: 0.5270, Valid Loss: 0.0090, Valid MSE: 0.5611\n",
      "Epoch: 237, Train Loss: 0.0082, Train MSE: 0.5229, Valid Loss: 0.0090, Valid MSE: 0.5584\n",
      "Epoch: 238, Train Loss: 0.0082, Train MSE: 0.5223, Valid Loss: 0.0090, Valid MSE: 0.5577\n",
      "Epoch: 239, Train Loss: 0.0082, Train MSE: 0.5210, Valid Loss: 0.0089, Valid MSE: 0.5573\n",
      "Epoch: 240, Train Loss: 0.0083, Train MSE: 0.5271, Valid Loss: 0.0090, Valid MSE: 0.5576\n",
      "Epoch: 241, Train Loss: 0.0082, Train MSE: 0.5238, Valid Loss: 0.0090, Valid MSE: 0.5585\n",
      "Epoch: 242, Train Loss: 0.0081, Train MSE: 0.5180, Valid Loss: 0.0089, Valid MSE: 0.5567\n",
      "Epoch: 243, Train Loss: 0.0081, Train MSE: 0.5156, Valid Loss: 0.0089, Valid MSE: 0.5572\n",
      "Epoch: 244, Train Loss: 0.0080, Train MSE: 0.5124, Valid Loss: 0.0090, Valid MSE: 0.5597\n",
      "Epoch: 245, Train Loss: 0.0083, Train MSE: 0.5263, Valid Loss: 0.0089, Valid MSE: 0.5575\n",
      "Epoch: 246, Train Loss: 0.0082, Train MSE: 0.5219, Valid Loss: 0.0089, Valid MSE: 0.5566\n",
      "Epoch: 247, Train Loss: 0.0082, Train MSE: 0.5229, Valid Loss: 0.0090, Valid MSE: 0.5581\n",
      "Epoch: 248, Train Loss: 0.0082, Train MSE: 0.5246, Valid Loss: 0.0089, Valid MSE: 0.5571\n",
      "Epoch: 249, Train Loss: 0.0082, Train MSE: 0.5204, Valid Loss: 0.0089, Valid MSE: 0.5566\n"
     ]
    }
   ],
   "source": [
    "epochs = 250\n",
    "\n",
    "train_losses_by_epoch = []\n",
    "valid_losses_by_epoch = []\n",
    "train_mse_by_epoch = []\n",
    "valid_mse_by_epoch = []\n",
    "\n",
    "for epoch in range(epochs):\n",
    "    \n",
    "    model.train()\n",
    "    \n",
    "    epoch_loss = 0\n",
    "    epoch_y_hat = []\n",
    "    epoch_y = []\n",
    "    \n",
    "    for idx, data in enumerate(train_loader):\n",
    "        x_batch, user_id_batch, movie_id_batch, y_batch = data\n",
    "        \n",
    "        if use_cuda:\n",
    "            x_batch = x_batch.to('cuda').float()\n",
    "            user_id_batch = user_id_batch.to('cuda').int()\n",
    "            movie_id_batch = movie_id_batch.to('cuda').int()\n",
    "            y_batch = y_batch.to('cuda').reshape(-1, 1).float()\n",
    "        \n",
    "        optimizer.zero_grad()\n",
    "        \n",
    "        y_batch_hat = model(x_batch, user_id_batch, movie_id_batch)\n",
    "        \n",
    "        loss = loss_fn(y_batch_hat, y_batch)\n",
    "        \n",
    "        loss.backward()\n",
    "        \n",
    "        optimizer.step()\n",
    "        \n",
    "        epoch_y.extend(y_batch.detach().cpu().numpy())\n",
    "        epoch_y_hat.extend(y_batch_hat.detach().cpu().numpy())        \n",
    "        \n",
    "        epoch_loss += loss.item()\n",
    "        \n",
    "    epoch_loss /= n_train\n",
    "    \n",
    "    train_losses_by_epoch.append(epoch_loss)\n",
    "    \n",
    "    train_mse = metrics.mean_squared_error(epoch_y, epoch_y_hat)\n",
    "    train_mse_by_epoch.append(train_mse)\n",
    "        \n",
    "    model.eval()\n",
    "    \n",
    "    valid_epoch_loss = 0\n",
    "    \n",
    "    valid_epoch_y_hat = []\n",
    "    valid_epoch_y = []\n",
    "    \n",
    "    with torch.no_grad():\n",
    "        for idx, data in enumerate(valid_loader):\n",
    "            x_batch, user_id_batch, movie_id_batch, y_batch = data\n",
    "            \n",
    "            if use_cuda:\n",
    "                x_batch = x_batch.cuda().float()\n",
    "                user_id_batch = user_id_batch.cuda().int()\n",
    "                movie_id_batch = movie_id_batch.cuda().int()\n",
    "                y_batch = y_batch.cuda().reshape(-1, 1).float()\n",
    "            \n",
    "            y_batch_hat = model(x_batch, user_id_batch, movie_id_batch)\n",
    "            \n",
    "            loss = loss_fn(y_batch_hat, y_batch)\n",
    "            \n",
    "            valid_epoch_y.extend(y_batch.detach().cpu().numpy())\n",
    "            valid_epoch_y_hat.extend(y_batch_hat.detach().cpu().numpy())\n",
    "            \n",
    "            valid_epoch_loss += loss.item()\n",
    "    \n",
    "    valid_epoch_loss /= n_valid\n",
    "    \n",
    "    valid_losses_by_epoch.append(valid_epoch_loss)\n",
    "    \n",
    "    valid_mse = metrics.mean_squared_error(valid_epoch_y, valid_epoch_y_hat)\n",
    "    valid_mse_by_epoch.append(valid_mse)\n",
    "    \n",
    "    print(\"Epoch: {}, Train Loss: {:.4f}, Train MSE: {:.4f}, Valid Loss: {:.4f}, Valid MSE: {:.4f}\".format(epoch, epoch_loss, train_mse, valid_epoch_loss, valid_mse))"
   ]
  },
  {
   "cell_type": "markdown",
   "metadata": {},
   "source": [
    "# 3. Gráficas de entrenamiento y validación"
   ]
  },
  {
   "cell_type": "code",
   "execution_count": 37,
   "metadata": {},
   "outputs": [
    {
     "name": "stderr",
     "output_type": "stream",
     "text": [
      "/tmp/ipykernel_1280/1673019763.py:1: MatplotlibDeprecationWarning: The seaborn styles shipped by Matplotlib are deprecated since 3.6, as they no longer correspond to the styles shipped by seaborn. However, they will remain available as 'seaborn-v0_8-<style>'. Alternatively, directly use the seaborn API instead.\n",
      "  plt.style.use('seaborn-darkgrid')\n"
     ]
    },
    {
     "data": {
      "image/png": "[encoded data removed]",
      "text/plain": [
       "<Figure size 1400x600 with 2 Axes>"
      ]
     },
     "metadata": {},
     "output_type": "display_data"
    }
   ],
   "source": [
    "plt.style.use('seaborn-darkgrid')\n",
    "plt.rcParams.update({'font.size': 12})\n",
    "\n",
    "train_loss_color = 'dodgerblue'\n",
    "valid_loss_color = 'darkorange'\n",
    "train_mse_color = 'mediumseagreen'\n",
    "valid_mse_color = 'tomato'\n",
    "\n",
    "plt.figure(figsize=(14, 6))\n",
    "\n",
    "plt.subplot(1, 2, 1)\n",
    "plt.plot(train_losses_by_epoch, label='Train Loss', color=train_loss_color)\n",
    "plt.plot(valid_losses_by_epoch, label='Validation Loss', color=valid_loss_color)\n",
    "plt.xlabel('Epochs')\n",
    "plt.ylabel('Loss')\n",
    "plt.title('Training and Validation Loss')\n",
    "plt.legend()\n",
    "plt.grid(True)\n",
    "\n",
    "plt.subplot(1, 2, 2)\n",
    "plt.plot(train_mse_by_epoch, label='Train MSE', color=train_mse_color)\n",
    "plt.plot(valid_mse_by_epoch, label='Validation MSE', color=valid_mse_color)\n",
    "plt.xlabel('Epochs')\n",
    "plt.ylabel('MSE')\n",
    "plt.title('Train and Validation MSE')\n",
    "plt.legend()\n",
    "plt.grid(True)\n",
    "\n",
    "plt.tight_layout()\n",
    "plt.show()"
   ]
  },
  {
   "cell_type": "code",
   "execution_count": 36,
   "metadata": {},
   "outputs": [],
   "source": [
    "# Save the model\n",
    "torch.save(model.state_dict(), f'models/model_loss_{valid_epoch_loss:.4f}_mse_{valid_mse:.4f}_train_loss_{epoch_loss:.4f}_mse_{train_mse:.4f}.pth')"
   ]
  },
  {
   "cell_type": "markdown",
   "metadata": {},
   "source": [
    "# 4. Predicciones\n",
    "\n",
    "Construir una funcion capaz de recibir un usuario al azar, una cantidad \"p\" de películas que dicho usuario haya puntuado y verificar la predicción del modelo. Comparar con los puntajes reales contra los que el usuario asignó a dicha/s película/s"
   ]
  },
  {
   "cell_type": "code",
   "execution_count": 47,
   "metadata": {},
   "outputs": [],
   "source": [
    "model = model.to('cpu')"
   ]
  },
  {
   "cell_type": "code",
   "execution_count": 74,
   "metadata": {},
   "outputs": [],
   "source": [
    "import random \n",
    "\n",
    "def verificar_prediccion(user_id, p, model, data, scaler):\n",
    "    # Obtener las p películas más recientes del usuario\n",
    "    p_movies = data[data['userId'] == user_id].sample(n=p)\n",
    "\n",
    "    x = torch.tensor(p_movies['timestamp'].values, dtype=torch.float)\n",
    "    user_ids = torch.tensor(p_movies['userId'].values, dtype=torch.long)\n",
    "    movies_ids = torch.tensor(p_movies['movieId'].values, dtype=torch.long)\n",
    "    true_ratings = p_movies['rating'].values\n",
    "    \n",
    "    print(x[0], user_ids[0], movies_ids[0])\n",
    "\n",
    "    pred_ratings = model(x[0], user_ids[0], movies_ids[0])\n",
    "    #     calificaciones_predichas = scaler.inverse_transform(calificaciones_predichas.reshape(-1, 1)).flatten()\n",
    "\n",
    "    # for idx, row in usuario_peliculas.iterrows():\n",
    "    #     print(f\"Película ID: {row['movieId']}, Calificación Real: {row['rating']}, Calificación Predicha: {calificaciones_predichas[idx]}\")\n"
   ]
  },
  {
   "cell_type": "code",
   "execution_count": 81,
   "metadata": {},
   "outputs": [
    {
     "data": {
      "text/plain": [
       "45968    305\n",
       "51160    330\n",
       "36418    249\n",
       "67961    438\n",
       "69403    448\n",
       "9431      64\n",
       "57405    380\n",
       "54222    357\n",
       "23925    166\n",
       "10441     68\n",
       "Name: userId, dtype: int64"
      ]
     },
     "execution_count": 81,
     "metadata": {},
     "output_type": "execute_result"
    }
   ],
   "source": [
    "user_id.sample(10)"
   ]
  },
  {
   "cell_type": "code",
   "execution_count": 93,
   "metadata": {},
   "outputs": [
    {
     "data": {
      "text/plain": [
       "tensor([[5.]], grad_fn=<MulBackward0>)"
      ]
     },
     "execution_count": 93,
     "metadata": {},
     "output_type": "execute_result"
    }
   ],
   "source": [
    "x = torch.tensor([[1.4570e+09]])\n",
    "user_ids = torch.tensor([18])\n",
    "movie_id = torch.tensor([0])\n",
    "\n",
    "model(x, user_ids, movie_id)"
   ]
  },
  {
   "cell_type": "code",
   "execution_count": 86,
   "metadata": {},
   "outputs": [
    {
     "data": {
      "text/plain": [
       "tensor([[5.]], grad_fn=<MulBackward0>)"
      ]
     },
     "execution_count": 86,
     "metadata": {},
     "output_type": "execute_result"
    }
   ],
   "source": [
    "output"
   ]
  },
  {
   "cell_type": "code",
   "execution_count": 75,
   "metadata": {},
   "outputs": [
    {
     "name": "stdout",
     "output_type": "stream",
     "text": [
      "tensor(1.4570e+09) tensor(18) tensor(4011)\n"
     ]
    },
    {
     "ename": "IndexError",
     "evalue": "index out of range in self",
     "output_type": "error",
     "traceback": [
      "\u001b[0;31m---------------------------------------------------------------------------\u001b[0m",
      "\u001b[0;31mIndexError\u001b[0m                                Traceback (most recent call last)",
      "Cell \u001b[0;32mIn[75], line 1\u001b[0m\n\u001b[0;32m----> 1\u001b[0m \u001b[43mverificar_prediccion\u001b[49m\u001b[43m(\u001b[49m\u001b[38;5;241;43m18\u001b[39;49m\u001b[43m,\u001b[49m\u001b[43m \u001b[49m\u001b[38;5;241;43m5\u001b[39;49m\u001b[43m,\u001b[49m\u001b[43m \u001b[49m\u001b[43mmodel\u001b[49m\u001b[43m,\u001b[49m\u001b[43m \u001b[49m\u001b[43mfiltered_data\u001b[49m\u001b[43m,\u001b[49m\u001b[43m \u001b[49m\u001b[43mscaler\u001b[49m\u001b[43m)\u001b[49m\n",
      "Cell \u001b[0;32mIn[74], line 14\u001b[0m, in \u001b[0;36mverificar_prediccion\u001b[0;34m(user_id, p, model, data, scaler)\u001b[0m\n\u001b[1;32m     10\u001b[0m true_ratings \u001b[38;5;241m=\u001b[39m p_movies[\u001b[38;5;124m'\u001b[39m\u001b[38;5;124mrating\u001b[39m\u001b[38;5;124m'\u001b[39m]\u001b[38;5;241m.\u001b[39mvalues\n\u001b[1;32m     12\u001b[0m \u001b[38;5;28mprint\u001b[39m(x[\u001b[38;5;241m0\u001b[39m], user_ids[\u001b[38;5;241m0\u001b[39m], movies_ids[\u001b[38;5;241m0\u001b[39m])\n\u001b[0;32m---> 14\u001b[0m pred_ratings \u001b[38;5;241m=\u001b[39m \u001b[43mmodel\u001b[49m\u001b[43m(\u001b[49m\u001b[43mx\u001b[49m\u001b[43m[\u001b[49m\u001b[38;5;241;43m0\u001b[39;49m\u001b[43m]\u001b[49m\u001b[43m,\u001b[49m\u001b[43m \u001b[49m\u001b[43muser_ids\u001b[49m\u001b[43m[\u001b[49m\u001b[38;5;241;43m0\u001b[39;49m\u001b[43m]\u001b[49m\u001b[43m,\u001b[49m\u001b[43m \u001b[49m\u001b[43mmovies_ids\u001b[49m\u001b[43m[\u001b[49m\u001b[38;5;241;43m0\u001b[39;49m\u001b[43m]\u001b[49m\u001b[43m)\u001b[49m\n",
      "File \u001b[0;32m~/Documents/tp1_deep_learning/venv/lib/python3.8/site-packages/torch/nn/modules/module.py:1532\u001b[0m, in \u001b[0;36mModule._wrapped_call_impl\u001b[0;34m(self, *args, **kwargs)\u001b[0m\n\u001b[1;32m   1530\u001b[0m     \u001b[38;5;28;01mreturn\u001b[39;00m \u001b[38;5;28mself\u001b[39m\u001b[38;5;241m.\u001b[39m_compiled_call_impl(\u001b[38;5;241m*\u001b[39margs, \u001b[38;5;241m*\u001b[39m\u001b[38;5;241m*\u001b[39mkwargs)  \u001b[38;5;66;03m# type: ignore[misc]\u001b[39;00m\n\u001b[1;32m   1531\u001b[0m \u001b[38;5;28;01melse\u001b[39;00m:\n\u001b[0;32m-> 1532\u001b[0m     \u001b[38;5;28;01mreturn\u001b[39;00m \u001b[38;5;28;43mself\u001b[39;49m\u001b[38;5;241;43m.\u001b[39;49m\u001b[43m_call_impl\u001b[49m\u001b[43m(\u001b[49m\u001b[38;5;241;43m*\u001b[39;49m\u001b[43margs\u001b[49m\u001b[43m,\u001b[49m\u001b[43m \u001b[49m\u001b[38;5;241;43m*\u001b[39;49m\u001b[38;5;241;43m*\u001b[39;49m\u001b[43mkwargs\u001b[49m\u001b[43m)\u001b[49m\n",
      "File \u001b[0;32m~/Documents/tp1_deep_learning/venv/lib/python3.8/site-packages/torch/nn/modules/module.py:1541\u001b[0m, in \u001b[0;36mModule._call_impl\u001b[0;34m(self, *args, **kwargs)\u001b[0m\n\u001b[1;32m   1536\u001b[0m \u001b[38;5;66;03m# If we don't have any hooks, we want to skip the rest of the logic in\u001b[39;00m\n\u001b[1;32m   1537\u001b[0m \u001b[38;5;66;03m# this function, and just call forward.\u001b[39;00m\n\u001b[1;32m   1538\u001b[0m \u001b[38;5;28;01mif\u001b[39;00m \u001b[38;5;129;01mnot\u001b[39;00m (\u001b[38;5;28mself\u001b[39m\u001b[38;5;241m.\u001b[39m_backward_hooks \u001b[38;5;129;01mor\u001b[39;00m \u001b[38;5;28mself\u001b[39m\u001b[38;5;241m.\u001b[39m_backward_pre_hooks \u001b[38;5;129;01mor\u001b[39;00m \u001b[38;5;28mself\u001b[39m\u001b[38;5;241m.\u001b[39m_forward_hooks \u001b[38;5;129;01mor\u001b[39;00m \u001b[38;5;28mself\u001b[39m\u001b[38;5;241m.\u001b[39m_forward_pre_hooks\n\u001b[1;32m   1539\u001b[0m         \u001b[38;5;129;01mor\u001b[39;00m _global_backward_pre_hooks \u001b[38;5;129;01mor\u001b[39;00m _global_backward_hooks\n\u001b[1;32m   1540\u001b[0m         \u001b[38;5;129;01mor\u001b[39;00m _global_forward_hooks \u001b[38;5;129;01mor\u001b[39;00m _global_forward_pre_hooks):\n\u001b[0;32m-> 1541\u001b[0m     \u001b[38;5;28;01mreturn\u001b[39;00m \u001b[43mforward_call\u001b[49m\u001b[43m(\u001b[49m\u001b[38;5;241;43m*\u001b[39;49m\u001b[43margs\u001b[49m\u001b[43m,\u001b[49m\u001b[43m \u001b[49m\u001b[38;5;241;43m*\u001b[39;49m\u001b[38;5;241;43m*\u001b[39;49m\u001b[43mkwargs\u001b[49m\u001b[43m)\u001b[49m\n\u001b[1;32m   1543\u001b[0m \u001b[38;5;28;01mtry\u001b[39;00m:\n\u001b[1;32m   1544\u001b[0m     result \u001b[38;5;241m=\u001b[39m \u001b[38;5;28;01mNone\u001b[39;00m\n",
      "Cell \u001b[0;32mIn[31], line 16\u001b[0m, in \u001b[0;36mNNet.forward\u001b[0;34m(self, x, user_ids, movie_ids)\u001b[0m\n\u001b[1;32m     14\u001b[0m \u001b[38;5;28;01mdef\u001b[39;00m \u001b[38;5;21mforward\u001b[39m(\u001b[38;5;28mself\u001b[39m, x, user_ids, movie_ids):\n\u001b[1;32m     15\u001b[0m     user_embeds \u001b[38;5;241m=\u001b[39m \u001b[38;5;28mself\u001b[39m\u001b[38;5;241m.\u001b[39muser_embedding(user_ids)\n\u001b[0;32m---> 16\u001b[0m     movie_embeds \u001b[38;5;241m=\u001b[39m \u001b[38;5;28;43mself\u001b[39;49m\u001b[38;5;241;43m.\u001b[39;49m\u001b[43mmovie_embedding\u001b[49m\u001b[43m(\u001b[49m\u001b[43mmovie_ids\u001b[49m\u001b[43m)\u001b[49m\n\u001b[1;32m     17\u001b[0m     x \u001b[38;5;241m=\u001b[39m torch\u001b[38;5;241m.\u001b[39mcat([x, user_embeds, movie_embeds], dim\u001b[38;5;241m=\u001b[39m\u001b[38;5;241m1\u001b[39m)\n\u001b[1;32m     18\u001b[0m     x \u001b[38;5;241m=\u001b[39m \u001b[38;5;28mself\u001b[39m\u001b[38;5;241m.\u001b[39mrelu(\u001b[38;5;28mself\u001b[39m\u001b[38;5;241m.\u001b[39mfc1(x))\n",
      "File \u001b[0;32m~/Documents/tp1_deep_learning/venv/lib/python3.8/site-packages/torch/nn/modules/module.py:1532\u001b[0m, in \u001b[0;36mModule._wrapped_call_impl\u001b[0;34m(self, *args, **kwargs)\u001b[0m\n\u001b[1;32m   1530\u001b[0m     \u001b[38;5;28;01mreturn\u001b[39;00m \u001b[38;5;28mself\u001b[39m\u001b[38;5;241m.\u001b[39m_compiled_call_impl(\u001b[38;5;241m*\u001b[39margs, \u001b[38;5;241m*\u001b[39m\u001b[38;5;241m*\u001b[39mkwargs)  \u001b[38;5;66;03m# type: ignore[misc]\u001b[39;00m\n\u001b[1;32m   1531\u001b[0m \u001b[38;5;28;01melse\u001b[39;00m:\n\u001b[0;32m-> 1532\u001b[0m     \u001b[38;5;28;01mreturn\u001b[39;00m \u001b[38;5;28;43mself\u001b[39;49m\u001b[38;5;241;43m.\u001b[39;49m\u001b[43m_call_impl\u001b[49m\u001b[43m(\u001b[49m\u001b[38;5;241;43m*\u001b[39;49m\u001b[43margs\u001b[49m\u001b[43m,\u001b[49m\u001b[43m \u001b[49m\u001b[38;5;241;43m*\u001b[39;49m\u001b[38;5;241;43m*\u001b[39;49m\u001b[43mkwargs\u001b[49m\u001b[43m)\u001b[49m\n",
      "File \u001b[0;32m~/Documents/tp1_deep_learning/venv/lib/python3.8/site-packages/torch/nn/modules/module.py:1541\u001b[0m, in \u001b[0;36mModule._call_impl\u001b[0;34m(self, *args, **kwargs)\u001b[0m\n\u001b[1;32m   1536\u001b[0m \u001b[38;5;66;03m# If we don't have any hooks, we want to skip the rest of the logic in\u001b[39;00m\n\u001b[1;32m   1537\u001b[0m \u001b[38;5;66;03m# this function, and just call forward.\u001b[39;00m\n\u001b[1;32m   1538\u001b[0m \u001b[38;5;28;01mif\u001b[39;00m \u001b[38;5;129;01mnot\u001b[39;00m (\u001b[38;5;28mself\u001b[39m\u001b[38;5;241m.\u001b[39m_backward_hooks \u001b[38;5;129;01mor\u001b[39;00m \u001b[38;5;28mself\u001b[39m\u001b[38;5;241m.\u001b[39m_backward_pre_hooks \u001b[38;5;129;01mor\u001b[39;00m \u001b[38;5;28mself\u001b[39m\u001b[38;5;241m.\u001b[39m_forward_hooks \u001b[38;5;129;01mor\u001b[39;00m \u001b[38;5;28mself\u001b[39m\u001b[38;5;241m.\u001b[39m_forward_pre_hooks\n\u001b[1;32m   1539\u001b[0m         \u001b[38;5;129;01mor\u001b[39;00m _global_backward_pre_hooks \u001b[38;5;129;01mor\u001b[39;00m _global_backward_hooks\n\u001b[1;32m   1540\u001b[0m         \u001b[38;5;129;01mor\u001b[39;00m _global_forward_hooks \u001b[38;5;129;01mor\u001b[39;00m _global_forward_pre_hooks):\n\u001b[0;32m-> 1541\u001b[0m     \u001b[38;5;28;01mreturn\u001b[39;00m \u001b[43mforward_call\u001b[49m\u001b[43m(\u001b[49m\u001b[38;5;241;43m*\u001b[39;49m\u001b[43margs\u001b[49m\u001b[43m,\u001b[49m\u001b[43m \u001b[49m\u001b[38;5;241;43m*\u001b[39;49m\u001b[38;5;241;43m*\u001b[39;49m\u001b[43mkwargs\u001b[49m\u001b[43m)\u001b[49m\n\u001b[1;32m   1543\u001b[0m \u001b[38;5;28;01mtry\u001b[39;00m:\n\u001b[1;32m   1544\u001b[0m     result \u001b[38;5;241m=\u001b[39m \u001b[38;5;28;01mNone\u001b[39;00m\n",
      "File \u001b[0;32m~/Documents/tp1_deep_learning/venv/lib/python3.8/site-packages/torch/nn/modules/sparse.py:163\u001b[0m, in \u001b[0;36mEmbedding.forward\u001b[0;34m(self, input)\u001b[0m\n\u001b[1;32m    162\u001b[0m \u001b[38;5;28;01mdef\u001b[39;00m \u001b[38;5;21mforward\u001b[39m(\u001b[38;5;28mself\u001b[39m, \u001b[38;5;28minput\u001b[39m: Tensor) \u001b[38;5;241m-\u001b[39m\u001b[38;5;241m>\u001b[39m Tensor:\n\u001b[0;32m--> 163\u001b[0m     \u001b[38;5;28;01mreturn\u001b[39;00m \u001b[43mF\u001b[49m\u001b[38;5;241;43m.\u001b[39;49m\u001b[43membedding\u001b[49m\u001b[43m(\u001b[49m\n\u001b[1;32m    164\u001b[0m \u001b[43m        \u001b[49m\u001b[38;5;28;43minput\u001b[39;49m\u001b[43m,\u001b[49m\u001b[43m \u001b[49m\u001b[38;5;28;43mself\u001b[39;49m\u001b[38;5;241;43m.\u001b[39;49m\u001b[43mweight\u001b[49m\u001b[43m,\u001b[49m\u001b[43m \u001b[49m\u001b[38;5;28;43mself\u001b[39;49m\u001b[38;5;241;43m.\u001b[39;49m\u001b[43mpadding_idx\u001b[49m\u001b[43m,\u001b[49m\u001b[43m \u001b[49m\u001b[38;5;28;43mself\u001b[39;49m\u001b[38;5;241;43m.\u001b[39;49m\u001b[43mmax_norm\u001b[49m\u001b[43m,\u001b[49m\n\u001b[1;32m    165\u001b[0m \u001b[43m        \u001b[49m\u001b[38;5;28;43mself\u001b[39;49m\u001b[38;5;241;43m.\u001b[39;49m\u001b[43mnorm_type\u001b[49m\u001b[43m,\u001b[49m\u001b[43m \u001b[49m\u001b[38;5;28;43mself\u001b[39;49m\u001b[38;5;241;43m.\u001b[39;49m\u001b[43mscale_grad_by_freq\u001b[49m\u001b[43m,\u001b[49m\u001b[43m \u001b[49m\u001b[38;5;28;43mself\u001b[39;49m\u001b[38;5;241;43m.\u001b[39;49m\u001b[43msparse\u001b[49m\u001b[43m)\u001b[49m\n",
      "File \u001b[0;32m~/Documents/tp1_deep_learning/venv/lib/python3.8/site-packages/torch/nn/functional.py:2264\u001b[0m, in \u001b[0;36membedding\u001b[0;34m(input, weight, padding_idx, max_norm, norm_type, scale_grad_by_freq, sparse)\u001b[0m\n\u001b[1;32m   2258\u001b[0m     \u001b[38;5;66;03m# Note [embedding_renorm set_grad_enabled]\u001b[39;00m\n\u001b[1;32m   2259\u001b[0m     \u001b[38;5;66;03m# XXX: equivalent to\u001b[39;00m\n\u001b[1;32m   2260\u001b[0m     \u001b[38;5;66;03m# with torch.no_grad():\u001b[39;00m\n\u001b[1;32m   2261\u001b[0m     \u001b[38;5;66;03m#   torch.embedding_renorm_\u001b[39;00m\n\u001b[1;32m   2262\u001b[0m     \u001b[38;5;66;03m# remove once script supports set_grad_enabled\u001b[39;00m\n\u001b[1;32m   2263\u001b[0m     _no_grad_embedding_renorm_(weight, \u001b[38;5;28minput\u001b[39m, max_norm, norm_type)\n\u001b[0;32m-> 2264\u001b[0m \u001b[38;5;28;01mreturn\u001b[39;00m \u001b[43mtorch\u001b[49m\u001b[38;5;241;43m.\u001b[39;49m\u001b[43membedding\u001b[49m\u001b[43m(\u001b[49m\u001b[43mweight\u001b[49m\u001b[43m,\u001b[49m\u001b[43m \u001b[49m\u001b[38;5;28;43minput\u001b[39;49m\u001b[43m,\u001b[49m\u001b[43m \u001b[49m\u001b[43mpadding_idx\u001b[49m\u001b[43m,\u001b[49m\u001b[43m \u001b[49m\u001b[43mscale_grad_by_freq\u001b[49m\u001b[43m,\u001b[49m\u001b[43m \u001b[49m\u001b[43msparse\u001b[49m\u001b[43m)\u001b[49m\n",
      "\u001b[0;31mIndexError\u001b[0m: index out of range in self"
     ]
    }
   ],
   "source": [
    "verificar_prediccion(18, 5, model, filtered_data, scaler)"
   ]
  },
  {
   "cell_type": "code",
   "execution_count": null,
   "metadata": {},
   "outputs": [],
   "source": []
  }
 ],
 "metadata": {
  "kernelspec": {
   "display_name": "venv",
   "language": "python",
   "name": "python3"
  },
  "language_info": {
   "codemirror_mode": {
    "name": "ipython",
    "version": 3
   },
   "file_extension": ".py",
   "mimetype": "text/x-python",
   "name": "python",
   "nbconvert_exporter": "python",
   "pygments_lexer": "ipython3",
   "version": "3.8.10"
  }
 },
 "nbformat": 4,
 "nbformat_minor": 2
}
